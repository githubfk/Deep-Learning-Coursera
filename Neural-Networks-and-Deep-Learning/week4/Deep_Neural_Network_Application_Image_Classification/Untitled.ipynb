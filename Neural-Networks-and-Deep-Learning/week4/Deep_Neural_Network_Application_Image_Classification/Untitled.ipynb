{
 "cells": [
  {
   "cell_type": "code",
   "execution_count": 36,
   "metadata": {
    "collapsed": false
   },
   "outputs": [],
   "source": [
    "import numpy as np\n",
    "np.random.seed(1)\n",
    "\n",
    "a = np.random.random((3,3))\n",
    "b = np.array(a, dtype=\"float64\")    # 转成矩阵(ndarray)形式, copy形式\n",
    "c = np.asarray(a, dtype=\"float64\")  # 引用形式\n",
    "a[2] = 222"
   ]
  },
  {
   "cell_type": "code",
   "execution_count": 37,
   "metadata": {
    "collapsed": false
   },
   "outputs": [
    {
     "name": "stdout",
     "output_type": "stream",
     "text": [
      "a:  [[  4.17022005e-01   7.20324493e-01   1.14374817e-04]\n",
      " [  3.02332573e-01   1.46755891e-01   9.23385948e-02]\n",
      " [  2.22000000e+02   2.22000000e+02   2.22000000e+02]]\n"
     ]
    }
   ],
   "source": [
    "print(\"a: \", a)"
   ]
  },
  {
   "cell_type": "code",
   "execution_count": 38,
   "metadata": {
    "collapsed": false
   },
   "outputs": [
    {
     "name": "stdout",
     "output_type": "stream",
     "text": [
      "b:  [[  4.17022005e-01   7.20324493e-01   1.14374817e-04]\n",
      " [  3.02332573e-01   1.46755891e-01   9.23385948e-02]\n",
      " [  1.86260211e-01   3.45560727e-01   3.96767474e-01]]\n"
     ]
    }
   ],
   "source": [
    "print(\"b: \", b)"
   ]
  },
  {
   "cell_type": "code",
   "execution_count": 39,
   "metadata": {
    "collapsed": false
   },
   "outputs": [
    {
     "name": "stdout",
     "output_type": "stream",
     "text": [
      "c:  [[  4.17022005e-01   7.20324493e-01   1.14374817e-04]\n",
      " [  3.02332573e-01   1.46755891e-01   9.23385948e-02]\n",
      " [  2.22000000e+02   2.22000000e+02   2.22000000e+02]]\n"
     ]
    }
   ],
   "source": [
    "print(\"c: \", c)"
   ]
  },
  {
   "cell_type": "code",
   "execution_count": 30,
   "metadata": {
    "collapsed": false
   },
   "outputs": [],
   "source": [
    "a[1][1] = 222"
   ]
  },
  {
   "cell_type": "code",
   "execution_count": 31,
   "metadata": {
    "collapsed": false
   },
   "outputs": [
    {
     "data": {
      "text/plain": [
       "array([[  4.17022005e-01,   7.20324493e-01,   1.14374817e-04],\n",
       "       [  3.02332573e-01,   2.22000000e+02,   9.23385948e-02],\n",
       "       [  2.22000000e+02,   2.22000000e+02,   2.22000000e+02]])"
      ]
     },
     "execution_count": 31,
     "metadata": {},
     "output_type": "execute_result"
    }
   ],
   "source": [
    "c"
   ]
  },
  {
   "cell_type": "code",
   "execution_count": null,
   "metadata": {
    "collapsed": true
   },
   "outputs": [],
   "source": []
  }
 ],
 "metadata": {
  "kernelspec": {
   "display_name": "Python 3",
   "language": "python",
   "name": "python3"
  },
  "language_info": {
   "codemirror_mode": {
    "name": "ipython",
    "version": 3
   },
   "file_extension": ".py",
   "mimetype": "text/x-python",
   "name": "python",
   "nbconvert_exporter": "python",
   "pygments_lexer": "ipython3",
   "version": "3.5.1"
  }
 },
 "nbformat": 4,
 "nbformat_minor": 0
}
